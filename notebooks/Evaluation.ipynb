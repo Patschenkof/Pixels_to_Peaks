{
 "cells": [
  {
   "cell_type": "code",
   "execution_count": 6,
   "metadata": {},
   "outputs": [
    {
     "data": {
      "text/html": [
       "\n",
       "            <style>\n",
       "                .geemap-dark {\n",
       "                    --jp-widgets-color: white;\n",
       "                    --jp-widgets-label-color: white;\n",
       "                    --jp-ui-font-color1: white;\n",
       "                    --jp-layout-color2: #454545;\n",
       "                    background-color: #383838;\n",
       "                }\n",
       "                    \n",
       "                .geemap-dark .jupyter-button {\n",
       "                    --jp-layout-color3: #383838;\n",
       "                }\n",
       "                \n",
       "                .geemap-colab {\n",
       "                    background-color: var(--colab-primary-surface-color, white);\n",
       "                }\n",
       "                    \n",
       "                .geemap-colab .jupyter-button {\n",
       "                    --jp-layout-color3: var(--colab-primary-surface-color, white);\n",
       "                }\n",
       "            </style>\n",
       "            "
      ],
      "text/plain": [
       "<IPython.core.display.HTML object>"
      ]
     },
     "metadata": {},
     "output_type": "display_data"
    }
   ],
   "source": [
    "import geopandas as gpd\n",
    "import geemap\n",
    "import ee\n",
    "import sys\n",
    "import numpy as np\n",
    "sys.path.append('..')\n",
    "from scripts.data_processing_utils import DatasetMaker, DataLoader\n",
    "import os\n",
    "import cv2\n",
    "ds_maker = DatasetMaker()\n",
    "ds_loader = DataLoader()\n",
    "geemap.ee_initialize()\n",
    "\n",
    "import tensorflow as tf\n",
    "import tensorflow.keras as keras\n",
    "from models.networks.generator import dem_fill_net\n",
    "\n",
    "generator = dem_fill_net()\n",
    "\n",
    "\n",
    "\n",
    "# resolutions\n",
    "scale = 30\n",
    "large_dim = 256\n",
    "small_dim = 64\n",
    "\n",
    "# Set paths and dataset version\n",
    "version = \"V1.7.6\"\n",
    "\n",
    "# Set path for generator weights:\n",
    "weights_path = f'/home/robin/Nextcloud_sn/Masterarbeit/Results/Cluster/{version}/save_gen/generator_final.keras'\n",
    "\n",
    "generator.load_weights(weights_path)\n",
    "\n",
    "# Glacier to evaluate\n",
    "glac_path = '/home/robin/Nextcloud_sn/QGIS/processed/shapefiles/eval/trift_2003.gpkg'\n",
    "\n",
    "# Create the directories\n",
    "base_data_path = f'/home/robin/Nextcloud_sn/Masterarbeit/Results/Evaluation/{version}'\n",
    "sub_paths = ['DEMs', 'Inner-Outer Mask', 'Intersection Mask', 'Intersection Mask Small', 'QGIS']\n",
    "\n",
    "for sub_path in sub_paths:\n",
    "    full_path = os.path.join(base_data_path, sub_path)\n",
    "    os.makedirs(full_path, exist_ok=True)\n",
    "\n",
    "    # Set the paths\n",
    "file_path_dem = f'/home/robin/Nextcloud_sn/Masterarbeit/Results/Evaluation/{version}/DEMs'\n",
    "path_inner_outer = f'/home/robin/Nextcloud_sn/Masterarbeit/Results/Evaluation/{version}/Inner-Outer Mask'\n",
    "path_intersection = f'/home/robin/Nextcloud_sn/Masterarbeit/Results/Evaluation/{version}/Intersection Mask'\n",
    "path_intersection_small = f'/home/robin/Nextcloud_sn/Masterarbeit/Results/Evaluation/{version}/Intersection Mask Small'\n",
    "\n",
    "df = gpd.read_file(glac_path, crs = 'EPSG:3857')\n",
    "\n",
    "glac_id = df['glac_id'].iloc[0]\n",
    "file_name = str(glac_id) + '.tif'\n",
    "file_name_mask = str(glac_id) + '.npy'"
   ]
  },
  {
   "cell_type": "code",
   "execution_count": 7,
   "metadata": {},
   "outputs": [
    {
     "data": {
      "text/html": [
       "\n",
       "            <style>\n",
       "                .geemap-dark {\n",
       "                    --jp-widgets-color: white;\n",
       "                    --jp-widgets-label-color: white;\n",
       "                    --jp-ui-font-color1: white;\n",
       "                    --jp-layout-color2: #454545;\n",
       "                    background-color: #383838;\n",
       "                }\n",
       "                    \n",
       "                .geemap-dark .jupyter-button {\n",
       "                    --jp-layout-color3: #383838;\n",
       "                }\n",
       "                \n",
       "                .geemap-colab {\n",
       "                    background-color: var(--colab-primary-surface-color, white);\n",
       "                }\n",
       "                    \n",
       "                .geemap-colab .jupyter-button {\n",
       "                    --jp-layout-color3: var(--colab-primary-surface-color, white);\n",
       "                }\n",
       "            </style>\n",
       "            "
      ],
      "text/plain": [
       "<IPython.core.display.HTML object>"
      ]
     },
     "metadata": {},
     "output_type": "display_data"
    }
   ],
   "source": [
    "def load_dem_for_eval(file_path, resize = False, shape = (256, 256)):\n",
    "    dem = cv2.imread(file_path, cv2.IMREAD_LOAD_GDAL)\n",
    "    if resize:\n",
    "        dem = cv2.resize(dem, dsize=shape, interpolation=cv2.INTER_AREA)\n",
    "\n",
    "    min_val = np.min(dem)\n",
    "    max_val = np.max(dem)\n",
    "\n",
    "    image = tf.convert_to_tensor(dem)\n",
    "    image = tf.expand_dims(image, axis=-1)\n",
    "    image = tf.expand_dims(image, axis=0)\n",
    "\n",
    "    return image, min_val, max_val\n",
    "\n",
    "def load_mask_for_eval(file_path):\n",
    "    mask = np.load(file_path)\n",
    "    mask = tf.convert_to_tensor(mask)\n",
    "    mask = tf.expand_dims(mask, axis=-1)\n",
    "    mask = tf.expand_dims(mask, axis=0)\n",
    "\n",
    "    return mask"
   ]
  },
  {
   "cell_type": "code",
   "execution_count": 8,
   "metadata": {},
   "outputs": [
    {
     "data": {
      "text/html": [
       "\n",
       "            <style>\n",
       "                .geemap-dark {\n",
       "                    --jp-widgets-color: white;\n",
       "                    --jp-widgets-label-color: white;\n",
       "                    --jp-ui-font-color1: white;\n",
       "                    --jp-layout-color2: #454545;\n",
       "                    background-color: #383838;\n",
       "                }\n",
       "                    \n",
       "                .geemap-dark .jupyter-button {\n",
       "                    --jp-layout-color3: #383838;\n",
       "                }\n",
       "                \n",
       "                .geemap-colab {\n",
       "                    background-color: var(--colab-primary-surface-color, white);\n",
       "                }\n",
       "                    \n",
       "                .geemap-colab .jupyter-button {\n",
       "                    --jp-layout-color3: var(--colab-primary-surface-color, white);\n",
       "                }\n",
       "            </style>\n",
       "            "
      ],
      "text/plain": [
       "<IPython.core.display.HTML object>"
      ]
     },
     "metadata": {},
     "output_type": "display_data"
    },
    {
     "name": "stdout",
     "output_type": "stream",
     "text": [
      "Area of glacier bounds is larger than area of small bbox\n",
      "Generating URL ...\n",
      "Downloading data from https://earthengine.googleapis.com/v1/projects/earthengine-legacy/thumbnails/de4b92d1eeee34e25c2c344dd3633a5e-f572c43534bd84ffde4fbd3fe8e3fb7a:getPixels\n",
      "Please wait ...\n",
      "Data downloaded to /home/robin/Nextcloud_sn/Masterarbeit/Results/Evaluation/V1.7.6/DEMs/G007685E46051N.tif\n"
     ]
    }
   ],
   "source": [
    "\n",
    "gdf_bbox_rand, gdf_intersection = ds_maker.get_bbox_center(df, spatial_resolution=scale, img_res=large_dim)\n",
    "\n",
    "if ds_maker.glacier_area_check(scale, small_dim, df):\n",
    "    print('Area of glacier bounds is larger than area of small bbox')\n",
    "\n",
    "    gdf_bbox_rand_small, gdf_intersection_small = ds_maker.get_random_bbox_intersect(gdf_intersection, spatial_resolution = scale,\n",
    "                                                                                                 img_res = small_dim, buffer = 0, min_coverage = 0.01,\n",
    "                                                                                                 max_tries = 1000)\n",
    "    \n",
    "    if gdf_bbox_rand_small is None or gdf_intersection_small is None:\n",
    "        print('No intersection found')\n",
    "        print('Not good!')\n",
    "    else:\n",
    "        # Generate masks\n",
    "        inner_outer_mask, intersection_mask, intersection_mask_small = ds_maker.bbox_2_mask_rasterized(gdf_bbox_rand, gdf_bbox_rand_small, gdf_intersection, gdf_intersection_small,\n",
    "                                                                                                        properties = {\n",
    "                                                                                                'outer_dim' : (large_dim, large_dim),\n",
    "                                                                                                'inner_dim' : (small_dim, small_dim),\n",
    "                                                                                            })\n",
    "else:\n",
    "    gdf_bbox_rand_small, gdf_intersection_small = ds_maker.get_bbox_center(df, spatial_resolution=scale, img_res=small_dim)\n",
    "\n",
    "    inner_outer_mask, intersection_mask, intersection_mask_small = ds_maker.bbox_2_mask_rasterized(gdf_bbox_rand, gdf_bbox_rand_small, gdf_intersection, gdf_intersection_small,\n",
    "                                                                                                                   properties = {\n",
    "                                                                                                            'outer_dim' : (large_dim, large_dim),\n",
    "                                                                                                            'inner_dim' : (small_dim, small_dim),\n",
    "                                                                                                        })\n",
    "    \n",
    "# Download and Save DEM\n",
    "path_abs = os.path.join(file_path_dem, file_name)        \n",
    "sq_geom = geemap.geopandas_to_ee(gdf_bbox_rand)\n",
    "filtered_band = ee.ImageCollection('COPERNICUS/DEM/GLO30').select('DEM').filterBounds(sq_geom).mean()\n",
    "geemap.ee_export_image(filtered_band, filename=path_abs, scale=scale, region=sq_geom.geometry().bounds(), file_per_band=False, crs = 'EPSG:3857')\n",
    "\n",
    "# Save masks\n",
    "np.save(os.path.join(path_inner_outer, file_name_mask), inner_outer_mask)\n",
    "np.save(os.path.join(path_intersection, file_name_mask), intersection_mask)\n",
    "np.save(os.path.join(path_intersection_small, file_name_mask), intersection_mask_small)"
   ]
  },
  {
   "cell_type": "code",
   "execution_count": 9,
   "metadata": {},
   "outputs": [
    {
     "data": {
      "text/html": [
       "\n",
       "            <style>\n",
       "                .geemap-dark {\n",
       "                    --jp-widgets-color: white;\n",
       "                    --jp-widgets-label-color: white;\n",
       "                    --jp-ui-font-color1: white;\n",
       "                    --jp-layout-color2: #454545;\n",
       "                    background-color: #383838;\n",
       "                }\n",
       "                    \n",
       "                .geemap-dark .jupyter-button {\n",
       "                    --jp-layout-color3: #383838;\n",
       "                }\n",
       "                \n",
       "                .geemap-colab {\n",
       "                    background-color: var(--colab-primary-surface-color, white);\n",
       "                }\n",
       "                    \n",
       "                .geemap-colab .jupyter-button {\n",
       "                    --jp-layout-color3: var(--colab-primary-surface-color, white);\n",
       "                }\n",
       "            </style>\n",
       "            "
      ],
      "text/plain": [
       "<IPython.core.display.HTML object>"
      ]
     },
     "metadata": {},
     "output_type": "display_data"
    }
   ],
   "source": [
    "#dem_path = ds_loader.populate_list(file_path_dem)\n",
    "#inner_outer_mask = ds_loader.populate_list(path_inner_outer)\n",
    "#intersection_mask = ds_loader.populate_list(path_intersection)\n",
    "#intersection_mask_small = ds_loader.populate_list(path_intersection_small)\n",
    "\n",
    "dem_path = os.path.join(file_path_dem, file_name)\n",
    "inner_outer_mask = os.path.join(path_inner_outer, file_name_mask)\n",
    "intersection_mask = os.path.join(path_intersection, file_name_mask)\n",
    "intersection_mask_small = os.path.join(path_intersection_small, file_name_mask)\n",
    "\n",
    "dem_org, min_val, max_val = load_dem_for_eval(dem_path, resize = True, shape = (256, 256))\n",
    "inner_outer_mask = load_mask_for_eval(inner_outer_mask)\n",
    "intersection_mask = load_mask_for_eval(intersection_mask)\n",
    "intersection_mask_small = load_mask_for_eval(intersection_mask_small)\n",
    "\n",
    "# Normalize the DEM [0, 1]\n",
    "#dem = (dem_org - min_val) / (max_val - min_val)\n",
    "\n",
    "# Normalize the DEM [-1, 1]\n",
    "dem = ((dem_org - min_val) / (max_val - min_val)) *2 - 1\n",
    "\n",
    "\n",
    "# Get output from generator and norm it back to org state. \n",
    "output_s1, output_s2 = generator([dem, inner_outer_mask, intersection_mask], training = False)\n",
    "#dem_s2 = output_s2 * (max_val - min_val) + min_val\n",
    "\n",
    "# From [-1, 1] to original\n",
    "dem_s2 = ((output_s2 + 1) / 2) * (max_val - min_val) + min_val\n",
    "\n",
    "# Remove batch dimension\n",
    "dem_s2 = tf.squeeze(dem_s2, axis=0)\n",
    "\n",
    "# Augment, so that only glacier area is shown\n",
    "\n",
    "dem_s2 = dem_s2 * intersection_mask + dem_org * (1 - intersection_mask)\n",
    "\n",
    "\n",
    "\n"
   ]
  },
  {
   "cell_type": "code",
   "execution_count": 10,
   "metadata": {},
   "outputs": [
    {
     "data": {
      "text/html": [
       "\n",
       "            <style>\n",
       "                .geemap-dark {\n",
       "                    --jp-widgets-color: white;\n",
       "                    --jp-widgets-label-color: white;\n",
       "                    --jp-ui-font-color1: white;\n",
       "                    --jp-layout-color2: #454545;\n",
       "                    background-color: #383838;\n",
       "                }\n",
       "                    \n",
       "                .geemap-dark .jupyter-button {\n",
       "                    --jp-layout-color3: #383838;\n",
       "                }\n",
       "                \n",
       "                .geemap-colab {\n",
       "                    background-color: var(--colab-primary-surface-color, white);\n",
       "                }\n",
       "                    \n",
       "                .geemap-colab .jupyter-button {\n",
       "                    --jp-layout-color3: var(--colab-primary-surface-color, white);\n",
       "                }\n",
       "            </style>\n",
       "            "
      ],
      "text/plain": [
       "<IPython.core.display.HTML object>"
      ]
     },
     "metadata": {},
     "output_type": "display_data"
    }
   ],
   "source": [
    "import rasterio as rio\n",
    "from rasterio.warp import calculate_default_transform, reproject, reproject\n",
    "\n",
    "file_out = glac_id + '_s2.tif'\n",
    "\n",
    "with rio.open(dem_path) as dem_source:\n",
    "    dem_profile = dem_source.profile\n",
    "\n",
    "\n",
    "with rio.open(os.path.join(file_path_dem, file_out), 'w', **dem_profile) as dest:\n",
    "    dest.write(dem_s2[0, :, :, 0], 1)"
   ]
  },
  {
   "cell_type": "code",
   "execution_count": null,
   "metadata": {},
   "outputs": [],
   "source": []
  }
 ],
 "metadata": {
  "kernelspec": {
   "display_name": "master_env",
   "language": "python",
   "name": "python3"
  },
  "language_info": {
   "codemirror_mode": {
    "name": "ipython",
    "version": 3
   },
   "file_extension": ".py",
   "mimetype": "text/x-python",
   "name": "python",
   "nbconvert_exporter": "python",
   "pygments_lexer": "ipython3",
   "version": "3.11.9"
  }
 },
 "nbformat": 4,
 "nbformat_minor": 2
}
